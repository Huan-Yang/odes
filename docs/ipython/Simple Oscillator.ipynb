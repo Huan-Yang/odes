{
 "cells": [
  {
   "cell_type": "code",
   "execution_count": 2,
   "metadata": {
    "collapsed": true
   },
   "outputs": [],
   "source": [
    "%matplotlib inline"
   ]
  },
  {
   "cell_type": "markdown",
   "metadata": {},
   "source": [
    "# Simple Oscillator Example\n",
    "\n",
    "This example shows the most simple way of using a solver.\n",
    "We solve free vibration of a simple oscillator:\n",
    "$$m \\ddot{u} + k u = 0,\\quad u(0) = u_0,\\quad \\dot{u}(0) = \\dot{u}_0$$\n",
    "using the CVODE solver. An analytical solution exists, given by\n",
    "$$u(t) = u_0 \\cos\\left(\\sqrt{\\frac{k}{m}} t\\right)+\\frac{\\dot{u}_0}{\\sqrt{\\frac{k}{m}}} \\sin\\left(\\sqrt{\\frac{k}{m}} t\\right)$$"
   ]
  },
  {
   "cell_type": "code",
   "execution_count": 3,
   "metadata": {
    "collapsed": true
   },
   "outputs": [],
   "source": [
    "from __future__ import print_function\n",
    "import matplotlib.pyplot as plt\n",
    "from numpy import asarray, cos, sin, sqrt, linspace\n",
    "from scikits.odes import ode"
   ]
  },
  {
   "cell_type": "code",
   "execution_count": 4,
   "metadata": {
    "collapsed": true
   },
   "outputs": [],
   "source": [
    "#data of the oscillator\n",
    "k = 4.0\n",
    "m = 1.0\n",
    "#initial position and speed data on t=0, x[0] = u, x[1] = \\dot{u}, xp = \\dot{x}\n",
    "initx = [1, 0.1]"
   ]
  },
  {
   "cell_type": "markdown",
   "metadata": {},
   "source": [
    "We need a first order system, so convert the second order system \n",
    "$$m \\ddot{u} + k u = 0,\\quad u(0) = u_0,\\quad \\dot{u}(0) = \\dot{u}_0$$\n",
    "into \n",
    "$$\\left\\{ \\begin{array}{l}\n",
    "  \\dot u = v\\\\\n",
    "  \\dot v = \\ddot u = -\\frac{ku}{m}\n",
    "\\end{array} \\right.$$\n",
    "You need to define a function that computes the right hand side of above equation:"
   ]
  },
  {
   "cell_type": "code",
   "execution_count": 5,
   "metadata": {
    "collapsed": true
   },
   "outputs": [],
   "source": [
    "def rhseqn(t, x, xdot):\n",
    "    \"\"\" we create rhs equations for the problem\"\"\"\n",
    "    xdot[0] = x[1]\n",
    "    xdot[1] = - k/m * x[0]"
   ]
  },
  {
   "cell_type": "markdown",
   "metadata": {},
   "source": [
    "To solve the ODE you define an ode object, specify the solver to use, here cvode, and pass the right hand side function. You request the solution at specific timepoints by passing an array of times to the solve member."
   ]
  },
  {
   "cell_type": "code",
   "execution_count": 6,
   "metadata": {
    "collapsed": true
   },
   "outputs": [],
   "source": [
    "solver = ode('cvode', rhseqn, old_api=False)\n",
    "solution = solver.solve([0., 1., 2.], initx)"
   ]
  },
  {
   "cell_type": "code",
   "execution_count": 7,
   "metadata": {
    "collapsed": false
   },
   "outputs": [
    {
     "name": "stdout",
     "output_type": "stream",
     "text": [
      "\n",
      "   t        Solution          Exact\n",
      "------------------------------------\n",
      "   0               1               1\n",
      "   1       -0.370694       -0.370682\n",
      "   2       -0.691508       -0.691484\n"
     ]
    }
   ],
   "source": [
    "print('\\n   t        Solution          Exact')\n",
    "print('------------------------------------')\n",
    "for t, u in zip(solution.values.t, solution.values.y):\n",
    "    print('{0:>4.0f} {1:15.6g} {2:15.6g}'.format(t, u[0], \n",
    "                    initx[0]*cos(sqrt(k/m)*t)+initx[1]*sin(sqrt(k/m)*t)/sqrt(k/m)))\n"
   ]
  },
  {
   "cell_type": "markdown",
   "metadata": {},
   "source": [
    "You can continue the solver by passing further times. Calling the solve routine reinits the solver, so you can restart at whatever time. To continue from the last computed solution, pass the last obtained time and solution. \n",
    "\n",
    "**Note:** The solver performes better if it can take into account history information, so avoid calling solve to continue computation!\n",
    "\n",
    "In general, you must check for errors using the errors output of solve."
   ]
  },
  {
   "cell_type": "code",
   "execution_count": 10,
   "metadata": {
    "collapsed": false
   },
   "outputs": [
    {
     "name": "stdout",
     "output_type": "stream",
     "text": [
      "Error:  Could not reach endpoint Error at time 24.5780834078\n",
      "Computed Solutions:\n",
      "\n",
      "   t        Solution          Exact\n",
      "------------------------------------\n",
      "   2       -0.691508       -0.691484\n"
     ]
    }
   ],
   "source": [
    "#Solve over the next hour by continuation\n",
    "times = linspace(0, 3600, 61)\n",
    "times[0] = solution.values.t[-1]\n",
    "solution = solver.solve(times, solution.values.y[-1])\n",
    "if solution.errors.t:\n",
    "    print ('Error: ', solution.message, 'Error at time', solution.errors.t)\n",
    "print ('Computed Solutions:')\n",
    "print('\\n   t        Solution          Exact')\n",
    "print('------------------------------------')\n",
    "for t, u in zip(solution.values.t, solution.values.y):\n",
    "    print('{0:>4.0f} {1:15.6g} {2:15.6g}'.format(t, u[0], \n",
    "                    initx[0]*cos(sqrt(k/m)*t)+initx[1]*sin(sqrt(k/m)*t)/sqrt(k/m)))\n"
   ]
  },
  {
   "cell_type": "markdown",
   "metadata": {},
   "source": [
    "The solution fails at a time around 24 seconds. Erros can be due to many things. Here however the reason is simple: we try to make too large jumps in time output. Increasing the allowed steps the solver can take will fix this. This is the **max_steps** option of cvode:"
   ]
  },
  {
   "cell_type": "code",
   "execution_count": 12,
   "metadata": {
    "collapsed": false
   },
   "outputs": [
    {
     "name": "stdout",
     "output_type": "stream",
     "text": [
      "Computed Solutions:\n",
      "\n",
      "   t        Solution          Exact\n",
      "------------------------------------\n",
      "   2       -0.691508       -0.691484\n",
      "  60        0.843074        0.843212\n",
      " 120        0.372884        0.373054\n",
      " 180       -0.235749       -0.235745\n",
      " 240       -0.756553       -0.756932\n",
      " 300       -0.996027       -0.996814\n",
      " 360       -0.865262       -0.866242\n",
      " 420       -0.412897       -0.413742\n",
      " 480        0.192583        0.192521\n",
      " 540        0.726263        0.727236\n",
      " 600        0.989879        0.991682\n",
      " 660        0.885441        0.887581\n",
      " 720        0.452113        0.453622\n",
      " 780       -0.149122       -0.148921\n",
      " 840       -0.694753       -0.696119\n",
      " 900       -0.981996       -0.984613\n",
      " 960       -0.904317       -0.907187\n",
      "1020       -0.490547       -0.492616\n",
      "1080        0.105433         0.10503\n",
      "1140        0.661996        0.663643\n",
      "1200        0.972376         0.97562\n",
      "1260        0.921229        0.925021\n",
      "1320        0.527762        0.530648\n",
      "1380      -0.0616772      -0.0609338\n",
      "1440       -0.627855        -0.62987\n",
      "1500       -0.960354       -0.964723\n",
      "1560       -0.935939       -0.941048\n",
      "1620       -0.563703       -0.567643\n",
      "1680       0.0179025       0.0167187\n",
      "1740        0.592593        0.594867\n",
      "1800        0.946886        0.951941\n",
      "1860        0.949087        0.955237\n",
      "1920         0.59865         0.60353\n",
      "1980        0.025868       0.0275291\n",
      "2040       -0.556352       -0.558703\n",
      "2100       -0.931643         -0.9373\n",
      "2160       -0.960605        -0.96756\n",
      "2220       -0.632579       -0.638239\n",
      "2280      -0.0695761      -0.0717232\n",
      "2340         0.51911        0.521447\n",
      "2400        0.914706        0.920828\n",
      "2460         0.97026        0.977994\n",
      "2520         0.66523          0.6717\n",
      "2580        0.113083        0.115777\n",
      "2640        -0.48092       -0.483173\n",
      "2700       -0.896022       -0.902558\n",
      "2760       -0.978027       -0.986518\n",
      "2820        -0.69649        -0.70385\n",
      "2880       -0.156248       -0.159605\n",
      "2940        0.441822        0.443956\n",
      "3000        0.875509        0.882526\n",
      "3060        0.983777        0.993115\n",
      "3120         0.72638        0.734626\n",
      "3180        0.199071        0.203121\n",
      "3240       -0.401994       -0.403871\n",
      "3300       -0.853534       -0.860769\n",
      "3360       -0.987807       -0.997773\n",
      "3420        -0.75483       -0.763966\n",
      "3480       -0.241495       -0.246241\n",
      "3540        0.361435        0.362997\n",
      "3600         0.82981        0.837332\n"
     ]
    }
   ],
   "source": [
    "solver = ode('cvode', rhseqn, old_api=False, max_steps=5000)\n",
    "solution = solver.solve(times, solution.values.y[-1])\n",
    "if solution.errors.t:\n",
    "    print ('Error: ', solution.message, 'Error at time', solution.errors.t)\n",
    "print ('Computed Solutions:')\n",
    "print('\\n   t        Solution          Exact')\n",
    "print('------------------------------------')\n",
    "for t, u in zip(solution.values.t, solution.values.y):\n",
    "    print('{0:>4.0f} {1:15.6g} {2:15.6g}'.format(t, u[0], \n",
    "                    initx[0]*cos(sqrt(k/m)*t)+initx[1]*sin(sqrt(k/m)*t)/sqrt(k/m)))\n"
   ]
  },
  {
   "cell_type": "markdown",
   "metadata": {},
   "source": [
    "To plot the simple oscillator, we show a (t,x) plot of the solution. Doing this over 60 seconds can be done as follows:"
   ]
  },
  {
   "cell_type": "code",
   "execution_count": 13,
   "metadata": {
    "collapsed": false
   },
   "outputs": [
    {
     "data": {
      "image/png": "[encoded data removed]",
      "text/plain": [
       "<matplotlib.figure.Figure at 0x7f59e32f7cd0>"
      ]
     },
     "metadata": {},
     "output_type": "display_data"
    }
   ],
   "source": [
    "#plot of the oscilator\n",
    "solver = ode('cvode', rhseqn, old_api=False)\n",
    "times = linspace(0,60,600)\n",
    "solution = solver.solve(times, initx)\n",
    "plt.plot(solution.values.t,[x[0] for x in solution.values.y])\n",
    "plt.xlabel('Time [s]')\n",
    "plt.ylabel('Position [m]')\n",
    "plt.show()"
   ]
  },
  {
   "cell_type": "code",
   "execution_count": null,
   "metadata": {
    "collapsed": true
   },
   "outputs": [],
   "source": []
  }
 ],
 "metadata": {
  "kernelspec": {
   "display_name": "Python 2",
   "language": "python",
   "name": "python2"
  },
  "language_info": {
   "codemirror_mode": {
    "name": "ipython",
    "version": 2
   },
   "file_extension": ".py",
   "mimetype": "text/x-python",
   "name": "python",
   "nbconvert_exporter": "python",
   "pygments_lexer": "ipython2",
   "version": "2.7.6"
  }
 },
 "nbformat": 4,
 "nbformat_minor": 0
}
